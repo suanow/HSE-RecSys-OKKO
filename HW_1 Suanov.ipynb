{
 "cells": [
  {
   "attachments": {},
   "cell_type": "markdown",
   "metadata": {},
   "source": [
    "# 0. Configuration"
   ]
  },
  {
   "cell_type": "code",
   "execution_count": 306,
   "metadata": {},
   "outputs": [],
   "source": [
    "# links to shared data MovieLens\n",
    "# source on kaggle: https://www.kaggle.com/code/quangnhatbui/movie-recommender/data\n",
    "RATINGS_SMALL_URL = 'https://drive.google.com/file/d/1BlZfCLLs5A13tbNSJZ1GPkHLWQOnPlE4/view?usp=share_link'\n",
    "MOVIES_METADATA_URL = 'https://drive.google.com/file/d/19g6-apYbZb5D-wRj4L7aYKhxS-fDM4Fb/view?usp=share_link'"
   ]
  },
  {
   "attachments": {},
   "cell_type": "markdown",
   "metadata": {},
   "source": [
    "# 1. Modules and functions"
   ]
  },
  {
   "cell_type": "code",
   "execution_count": 307,
   "metadata": {},
   "outputs": [],
   "source": [
    "import numpy as np\n",
    "import pandas as pd\n",
    "\n",
    "from itertools import islice, cycle, product\n",
    "\n",
    "import warnings\n",
    "warnings.filterwarnings('ignore')"
   ]
  },
  {
   "attachments": {},
   "cell_type": "markdown",
   "metadata": {},
   "source": [
    "## 1. 1. Helper functions to avoid copy paste"
   ]
  },
  {
   "cell_type": "code",
   "execution_count": 308,
   "metadata": {},
   "outputs": [],
   "source": [
    "def read_csv_from_gdrive(url):\n",
    "    \"\"\"\n",
    "    gets csv data from a given url (taken from file -> share -> copy link)\n",
    "    :url: example https://drive.google.com/file/d/1BlZfCLLs5A13tbNSJZ1GPkHLWQOnPlE4/view?usp=share_link\n",
    "    \"\"\"\n",
    "    file_id = url.split('/')[-2]\n",
    "    file_path = 'https://drive.google.com/uc?export=download&id=' + file_id\n",
    "    data = pd.read_csv(file_path)\n",
    "\n",
    "    return data"
   ]
  },
  {
   "cell_type": "code",
   "execution_count": 309,
   "metadata": {},
   "outputs": [],
   "source": [
    "def compute_popularity(df: pd.DataFrame, item_id: str, max_candidates: int):\n",
    "    \"\"\"\n",
    "    calculates mean rating to define popular titles\n",
    "    \"\"\"\n",
    "    popular_titles = df.groupby(item_id).agg({'rating': np.mean})\\\n",
    "                     .sort_values(['rating'], ascending=False).head(max_candidates).index.values\n",
    "\n",
    "    return popular_titles"
   ]
  },
  {
   "attachments": {},
   "cell_type": "markdown",
   "metadata": {},
   "source": [
    "# 2. Data"
   ]
  },
  {
   "attachments": {},
   "cell_type": "markdown",
   "metadata": {},
   "source": [
    "## 2. 1. Load data"
   ]
  },
  {
   "cell_type": "code",
   "execution_count": 310,
   "metadata": {},
   "outputs": [],
   "source": [
    "interactions = read_csv_from_gdrive(RATINGS_SMALL_URL)"
   ]
  },
  {
   "cell_type": "code",
   "execution_count": 311,
   "metadata": {},
   "outputs": [],
   "source": [
    "movies_metadata = read_csv_from_gdrive(MOVIES_METADATA_URL)"
   ]
  },
  {
   "attachments": {},
   "cell_type": "markdown",
   "metadata": {},
   "source": [
    "## 2.2 Data preparation"
   ]
  },
  {
   "cell_type": "code",
   "execution_count": 312,
   "metadata": {},
   "outputs": [],
   "source": [
    "interactions['movieId'] = interactions['movieId'].astype(str)\n",
    "movies_metadata.rename(columns = {'id': 'movieId'}, inplace = True)"
   ]
  },
  {
   "cell_type": "code",
   "execution_count": 313,
   "metadata": {},
   "outputs": [],
   "source": [
    "interactions_filtered = interactions.loc[interactions['movieId'].isin(movies_metadata['movieId'])]"
   ]
  },
  {
   "cell_type": "code",
   "execution_count": 314,
   "metadata": {},
   "outputs": [],
   "source": [
    "item_name_mapper = dict(zip(movies_metadata['movieId'], movies_metadata['original_title']))"
   ]
  },
  {
   "cell_type": "code",
   "execution_count": 315,
   "metadata": {},
   "outputs": [],
   "source": [
    "users = interactions[['userId']].drop_duplicates().reset_index(drop = True)"
   ]
  },
  {
   "attachments": {},
   "cell_type": "markdown",
   "metadata": {},
   "source": [
    "# 3. Model\n",
    "\n",
    "Let's define our baseline popularity recommender BaselineRecommender - top rated titles based on average rating with possibility to get by any group(s)"
   ]
  },
  {
   "attachments": {},
   "cell_type": "markdown",
   "metadata": {},
   "source": [
    "The pipeline will be similar to most python ML modules -- it will have two methods in the end: fit() and recommend()\n",
    "1. The logic of fit() as follow:\n",
    "- Initiate recommendation based on median rating from all observations recomm_common;\n",
    "- Prepare list of interacted items by users\n",
    "- If we set groups - we get recommendations i.e. calculate movie ratings by groups:\n",
    "    - If we get NaN, we fill with base recommendations \n",
    "    - If we get less than required number of candidates, we populate from base recommendations\n",
    "\n",
    "2. The logic of recommend():\n",
    "- Return base recommendations if users data is not set;\n",
    "- In case of category wise requirement -- we get results of our fit"
   ]
  },
  {
   "attachments": {},
   "cell_type": "markdown",
   "metadata": {},
   "source": [
    "## 3.1. Fit"
   ]
  },
  {
   "cell_type": "code",
   "execution_count": 316,
   "metadata": {},
   "outputs": [],
   "source": [
    "MAX_CANDIDATES = 20\n",
    "ITEM_COLUMN = 'movieId'\n",
    "USER_COLUMN = 'userId'"
   ]
  },
  {
   "cell_type": "code",
   "execution_count": 317,
   "metadata": {},
   "outputs": [],
   "source": [
    "base_recommendations = compute_popularity(interactions_filtered, ITEM_COLUMN, MAX_CANDIDATES)"
   ]
  },
  {
   "cell_type": "code",
   "execution_count": 318,
   "metadata": {},
   "outputs": [],
   "source": [
    "known_items = interactions_filtered.groupby(USER_COLUMN)[ITEM_COLUMN].apply(list).to_dict()"
   ]
  },
  {
   "cell_type": "code",
   "execution_count": 319,
   "metadata": {},
   "outputs": [],
   "source": [
    "group = [np.random.random_integers(2) for x in range(len(users))]\n",
    "users['group'] = group"
   ]
  },
  {
   "cell_type": "code",
   "execution_count": 320,
   "metadata": {},
   "outputs": [
    {
     "data": {
      "text/plain": [
       "group\n",
       "1    [3576, 55063, 2267, 54328, 5460, 667, 1543, 11...\n",
       "2    [43267, 93855, 65216, 3112, 33138, 1903, 26791...\n",
       "dtype: object"
      ]
     },
     "execution_count": 320,
     "metadata": {},
     "output_type": "execute_result"
    }
   ],
   "source": [
    "# old\n",
    "data = pd.merge(interactions_filtered, users, how='left', on = USER_COLUMN)\n",
    "group_recommendations = data.groupby('group').apply(compute_popularity, ITEM_COLUMN, MAX_CANDIDATES)\n",
    "group_recommendations.head()"
   ]
  },
  {
   "cell_type": "code",
   "execution_count": 321,
   "metadata": {},
   "outputs": [
    {
     "data": {
      "text/plain": [
       "group\n",
       "1    [3576, 55063, 2267, 54328, 5460, 667, 1543, 11...\n",
       "2    [43267, 93855, 65216, 3112, 33138, 1903, 26791...\n",
       "dtype: object"
      ]
     },
     "execution_count": 321,
     "metadata": {},
     "output_type": "execute_result"
    }
   ],
   "source": [
    "# new\n",
    "data = pd.merge(interactions_filtered, users, how='left', on = USER_COLUMN)\n",
    "group_recommendations = data.groupby('group').apply(compute_popularity, ITEM_COLUMN, len(movies_metadata))\n",
    "group_recommendations.head()"
   ]
  },
  {
   "attachments": {},
   "cell_type": "markdown",
   "metadata": {},
   "source": [
    "## 3. 2. Recommend"
   ]
  },
  {
   "cell_type": "code",
   "execution_count": 322,
   "metadata": {},
   "outputs": [
    {
     "data": {
      "text/html": [
       "<div>\n",
       "<style scoped>\n",
       "    .dataframe tbody tr th:only-of-type {\n",
       "        vertical-align: middle;\n",
       "    }\n",
       "\n",
       "    .dataframe tbody tr th {\n",
       "        vertical-align: top;\n",
       "    }\n",
       "\n",
       "    .dataframe thead th {\n",
       "        text-align: right;\n",
       "    }\n",
       "</style>\n",
       "<table border=\"1\" class=\"dataframe\">\n",
       "  <thead>\n",
       "    <tr style=\"text-align: right;\">\n",
       "      <th></th>\n",
       "      <th>userId</th>\n",
       "      <th>group</th>\n",
       "      <th>rekkos</th>\n",
       "    </tr>\n",
       "  </thead>\n",
       "  <tbody>\n",
       "    <tr>\n",
       "      <th>0</th>\n",
       "      <td>1</td>\n",
       "      <td>1</td>\n",
       "      <td>[74727, 128846, 702, 127728, 65216, 43267, 867...</td>\n",
       "    </tr>\n",
       "    <tr>\n",
       "      <th>1</th>\n",
       "      <td>2</td>\n",
       "      <td>2</td>\n",
       "      <td>[74727, 128846, 702, 127728, 65216, 43267, 867...</td>\n",
       "    </tr>\n",
       "    <tr>\n",
       "      <th>2</th>\n",
       "      <td>3</td>\n",
       "      <td>2</td>\n",
       "      <td>[74727, 128846, 702, 127728, 65216, 43267, 867...</td>\n",
       "    </tr>\n",
       "    <tr>\n",
       "      <th>3</th>\n",
       "      <td>4</td>\n",
       "      <td>1</td>\n",
       "      <td>[74727, 128846, 702, 127728, 65216, 43267, 867...</td>\n",
       "    </tr>\n",
       "    <tr>\n",
       "      <th>4</th>\n",
       "      <td>5</td>\n",
       "      <td>1</td>\n",
       "      <td>[74727, 128846, 702, 127728, 65216, 43267, 867...</td>\n",
       "    </tr>\n",
       "  </tbody>\n",
       "</table>\n",
       "</div>"
      ],
      "text/plain": [
       "   userId  group                                             rekkos\n",
       "0       1      1  [74727, 128846, 702, 127728, 65216, 43267, 867...\n",
       "1       2      2  [74727, 128846, 702, 127728, 65216, 43267, 867...\n",
       "2       3      2  [74727, 128846, 702, 127728, 65216, 43267, 867...\n",
       "3       4      1  [74727, 128846, 702, 127728, 65216, 43267, 867...\n",
       "4       5      1  [74727, 128846, 702, 127728, 65216, 43267, 867..."
      ]
     },
     "execution_count": 322,
     "metadata": {},
     "output_type": "execute_result"
    }
   ],
   "source": [
    "recs = list(islice(cycle([base_recommendations]), len(users['userId'])))\n",
    "users['rekkos'] = recs\n",
    "users.head()"
   ]
  },
  {
   "cell_type": "code",
   "execution_count": 323,
   "metadata": {},
   "outputs": [
    {
     "data": {
      "text/html": [
       "<div>\n",
       "<style scoped>\n",
       "    .dataframe tbody tr th:only-of-type {\n",
       "        vertical-align: middle;\n",
       "    }\n",
       "\n",
       "    .dataframe tbody tr th {\n",
       "        vertical-align: top;\n",
       "    }\n",
       "\n",
       "    .dataframe thead th {\n",
       "        text-align: right;\n",
       "    }\n",
       "</style>\n",
       "<table border=\"1\" class=\"dataframe\">\n",
       "  <thead>\n",
       "    <tr style=\"text-align: right;\">\n",
       "      <th></th>\n",
       "      <th>userId</th>\n",
       "      <th>group</th>\n",
       "      <th>rekkos</th>\n",
       "      <th>rekkos</th>\n",
       "    </tr>\n",
       "  </thead>\n",
       "  <tbody>\n",
       "    <tr>\n",
       "      <th>0</th>\n",
       "      <td>1</td>\n",
       "      <td>1</td>\n",
       "      <td>[74727, 128846, 702, 127728, 65216, 43267, 867...</td>\n",
       "      <td>[3576, 55063, 2267, 54328, 5460, 667, 1543, 11...</td>\n",
       "    </tr>\n",
       "    <tr>\n",
       "      <th>1</th>\n",
       "      <td>2</td>\n",
       "      <td>2</td>\n",
       "      <td>[74727, 128846, 702, 127728, 65216, 43267, 867...</td>\n",
       "      <td>[43267, 93855, 65216, 3112, 33138, 1903, 26791...</td>\n",
       "    </tr>\n",
       "    <tr>\n",
       "      <th>2</th>\n",
       "      <td>3</td>\n",
       "      <td>2</td>\n",
       "      <td>[74727, 128846, 702, 127728, 65216, 43267, 867...</td>\n",
       "      <td>[43267, 93855, 65216, 3112, 33138, 1903, 26791...</td>\n",
       "    </tr>\n",
       "    <tr>\n",
       "      <th>3</th>\n",
       "      <td>4</td>\n",
       "      <td>1</td>\n",
       "      <td>[74727, 128846, 702, 127728, 65216, 43267, 867...</td>\n",
       "      <td>[3576, 55063, 2267, 54328, 5460, 667, 1543, 11...</td>\n",
       "    </tr>\n",
       "    <tr>\n",
       "      <th>4</th>\n",
       "      <td>5</td>\n",
       "      <td>1</td>\n",
       "      <td>[74727, 128846, 702, 127728, 65216, 43267, 867...</td>\n",
       "      <td>[3576, 55063, 2267, 54328, 5460, 667, 1543, 11...</td>\n",
       "    </tr>\n",
       "  </tbody>\n",
       "</table>\n",
       "</div>"
      ],
      "text/plain": [
       "   userId  group                                             rekkos  \\\n",
       "0       1      1  [74727, 128846, 702, 127728, 65216, 43267, 867...   \n",
       "1       2      2  [74727, 128846, 702, 127728, 65216, 43267, 867...   \n",
       "2       3      2  [74727, 128846, 702, 127728, 65216, 43267, 867...   \n",
       "3       4      1  [74727, 128846, 702, 127728, 65216, 43267, 867...   \n",
       "4       5      1  [74727, 128846, 702, 127728, 65216, 43267, 867...   \n",
       "\n",
       "                                              rekkos  \n",
       "0  [3576, 55063, 2267, 54328, 5460, 667, 1543, 11...  \n",
       "1  [43267, 93855, 65216, 3112, 33138, 1903, 26791...  \n",
       "2  [43267, 93855, 65216, 3112, 33138, 1903, 26791...  \n",
       "3  [3576, 55063, 2267, 54328, 5460, 667, 1543, 11...  \n",
       "4  [3576, 55063, 2267, 54328, 5460, 667, 1543, 11...  "
      ]
     },
     "execution_count": 323,
     "metadata": {},
     "output_type": "execute_result"
    }
   ],
   "source": [
    "group_recommendations = group_recommendations.reset_index()\n",
    "group_rekkos = pd.merge(users, group_recommendations, how = 'left', on = 'group')\n",
    "group_rekkos.rename(columns = {0: 'rekkos'}, inplace = True)\n",
    "group_rekkos.head()"
   ]
  },
  {
   "attachments": {},
   "cell_type": "markdown",
   "metadata": {},
   "source": [
    "## 3.3. Wrap everything into pretty functions"
   ]
  },
  {
   "attachments": {},
   "cell_type": "markdown",
   "metadata": {},
   "source": [
    "### 3.3.1 Fit part"
   ]
  },
  {
   "cell_type": "code",
   "execution_count": 324,
   "metadata": {},
   "outputs": [],
   "source": [
    "def fit(\n",
    "    data: pd.DataFrame,\n",
    "    item_col: str, groups: list = None,\n",
    "    max_candidates: int = movies_metadata.movieId.nunique()\n",
    "    ) -> pd.DataFrame:\n",
    "    \"\"\"\n",
    "    function runs all pipeline to generate recommendations based on given group\n",
    "    :data: dataframe of interactions\n",
    "    :item_col: item column name\n",
    "    :groups: optional, list of groups column names to get recommendations\n",
    "    :max_candidates: number of recommendations to return\n",
    "    \"\"\"\n",
    "    \n",
    "    if groups is not None:\n",
    "        recommendations = data.groupby(groups).apply(compute_popularity, item_col, max_candidates)\n",
    "    else:\n",
    "        recommendations = compute_popularity(data, item_col, max_candidates)\n",
    "\n",
    "    return recommendations"
   ]
  },
  {
   "cell_type": "code",
   "execution_count": 325,
   "metadata": {},
   "outputs": [
    {
     "data": {
      "text/plain": [
       "array(['74727', '128846', '702', ..., '48591', '27376', '8859'],\n",
       "      dtype=object)"
      ]
     },
     "execution_count": 325,
     "metadata": {},
     "output_type": "execute_result"
    }
   ],
   "source": [
    "fit(data, item_col=ITEM_COLUMN)"
   ]
  },
  {
   "cell_type": "code",
   "execution_count": 326,
   "metadata": {},
   "outputs": [
    {
     "data": {
      "text/plain": [
       "group\n",
       "1    [3576, 55063, 2267, 54328, 5460, 667, 1543, 11...\n",
       "2    [43267, 93855, 65216, 3112, 33138, 1903, 26791...\n",
       "dtype: object"
      ]
     },
     "execution_count": 326,
     "metadata": {},
     "output_type": "execute_result"
    }
   ],
   "source": [
    "fit(data, item_col=ITEM_COLUMN, groups=['group'])"
   ]
  },
  {
   "attachments": {},
   "cell_type": "markdown",
   "metadata": {},
   "source": [
    "### 3.3.2 Recommend part"
   ]
  },
  {
   "cell_type": "code",
   "execution_count": 327,
   "metadata": {},
   "outputs": [],
   "source": [
    "def recommend(\n",
    "    users: pd.DataFrame,\n",
    "    recommendations: pd.DataFrame,\n",
    "    groups: list = None,\n",
    "    K: int = 10) -> pd.DataFrame:\n",
    "    \"\"\"\n",
    "    recommends items for a given list of users\n",
    "    :users: series / list of users to recommend\n",
    "    :recommendations: output of fit() function\n",
    "    :groups: optional, list of groups column names to get recommendations\n",
    "    :K: number of items to recommend (not always we want to show dozens of items instantly)\n",
    "    \"\"\"\n",
    "    if groups is not None:\n",
    "        output = pd.merge(users, recommendations.reset_index(), how = 'left', on = 'group')\n",
    "\n",
    "    else:\n",
    "        output = users.copy(deep = True)\n",
    "        recs = list(islice(cycle([recommendations]), len(users['userId'])))\n",
    "        output['rekkos'] = recs\n",
    "    \n",
    "    output.columns = ['userId', 'group', 'rekkos']\n",
    "\n",
    "    return output\n"
   ]
  },
  {
   "cell_type": "code",
   "execution_count": 328,
   "metadata": {},
   "outputs": [
    {
     "data": {
      "text/html": [
       "<div>\n",
       "<style scoped>\n",
       "    .dataframe tbody tr th:only-of-type {\n",
       "        vertical-align: middle;\n",
       "    }\n",
       "\n",
       "    .dataframe tbody tr th {\n",
       "        vertical-align: top;\n",
       "    }\n",
       "\n",
       "    .dataframe thead th {\n",
       "        text-align: right;\n",
       "    }\n",
       "</style>\n",
       "<table border=\"1\" class=\"dataframe\">\n",
       "  <thead>\n",
       "    <tr style=\"text-align: right;\">\n",
       "      <th></th>\n",
       "      <th>userId</th>\n",
       "      <th>group</th>\n",
       "      <th>rekkos</th>\n",
       "    </tr>\n",
       "  </thead>\n",
       "  <tbody>\n",
       "    <tr>\n",
       "      <th>0</th>\n",
       "      <td>1</td>\n",
       "      <td>1</td>\n",
       "      <td>[74727, 128846, 702, 127728, 65216, 43267, 867...</td>\n",
       "    </tr>\n",
       "    <tr>\n",
       "      <th>1</th>\n",
       "      <td>2</td>\n",
       "      <td>2</td>\n",
       "      <td>[74727, 128846, 702, 127728, 65216, 43267, 867...</td>\n",
       "    </tr>\n",
       "    <tr>\n",
       "      <th>2</th>\n",
       "      <td>3</td>\n",
       "      <td>2</td>\n",
       "      <td>[74727, 128846, 702, 127728, 65216, 43267, 867...</td>\n",
       "    </tr>\n",
       "    <tr>\n",
       "      <th>3</th>\n",
       "      <td>4</td>\n",
       "      <td>1</td>\n",
       "      <td>[74727, 128846, 702, 127728, 65216, 43267, 867...</td>\n",
       "    </tr>\n",
       "    <tr>\n",
       "      <th>4</th>\n",
       "      <td>5</td>\n",
       "      <td>1</td>\n",
       "      <td>[74727, 128846, 702, 127728, 65216, 43267, 867...</td>\n",
       "    </tr>\n",
       "  </tbody>\n",
       "</table>\n",
       "</div>"
      ],
      "text/plain": [
       "   userId  group                                             rekkos\n",
       "0       1      1  [74727, 128846, 702, 127728, 65216, 43267, 867...\n",
       "1       2      2  [74727, 128846, 702, 127728, 65216, 43267, 867...\n",
       "2       3      2  [74727, 128846, 702, 127728, 65216, 43267, 867...\n",
       "3       4      1  [74727, 128846, 702, 127728, 65216, 43267, 867...\n",
       "4       5      1  [74727, 128846, 702, 127728, 65216, 43267, 867..."
      ]
     },
     "execution_count": 328,
     "metadata": {},
     "output_type": "execute_result"
    }
   ],
   "source": [
    "recs = fit(data, item_col=ITEM_COLUMN)\n",
    "check_recs = recommend(users[['userId', 'group']], recs)\n",
    "check_recs.head()"
   ]
  },
  {
   "cell_type": "code",
   "execution_count": 329,
   "metadata": {},
   "outputs": [
    {
     "data": {
      "text/html": [
       "<div>\n",
       "<style scoped>\n",
       "    .dataframe tbody tr th:only-of-type {\n",
       "        vertical-align: middle;\n",
       "    }\n",
       "\n",
       "    .dataframe tbody tr th {\n",
       "        vertical-align: top;\n",
       "    }\n",
       "\n",
       "    .dataframe thead th {\n",
       "        text-align: right;\n",
       "    }\n",
       "</style>\n",
       "<table border=\"1\" class=\"dataframe\">\n",
       "  <thead>\n",
       "    <tr style=\"text-align: right;\">\n",
       "      <th></th>\n",
       "      <th>userId</th>\n",
       "      <th>group</th>\n",
       "      <th>rekkos</th>\n",
       "    </tr>\n",
       "  </thead>\n",
       "  <tbody>\n",
       "    <tr>\n",
       "      <th>0</th>\n",
       "      <td>1</td>\n",
       "      <td>1</td>\n",
       "      <td>[3576, 55063, 2267, 54328, 5460, 667, 1543, 11...</td>\n",
       "    </tr>\n",
       "    <tr>\n",
       "      <th>1</th>\n",
       "      <td>2</td>\n",
       "      <td>2</td>\n",
       "      <td>[43267, 93855, 65216, 3112, 33138, 1903, 26791...</td>\n",
       "    </tr>\n",
       "    <tr>\n",
       "      <th>2</th>\n",
       "      <td>3</td>\n",
       "      <td>2</td>\n",
       "      <td>[43267, 93855, 65216, 3112, 33138, 1903, 26791...</td>\n",
       "    </tr>\n",
       "    <tr>\n",
       "      <th>3</th>\n",
       "      <td>4</td>\n",
       "      <td>1</td>\n",
       "      <td>[3576, 55063, 2267, 54328, 5460, 667, 1543, 11...</td>\n",
       "    </tr>\n",
       "    <tr>\n",
       "      <th>4</th>\n",
       "      <td>5</td>\n",
       "      <td>1</td>\n",
       "      <td>[3576, 55063, 2267, 54328, 5460, 667, 1543, 11...</td>\n",
       "    </tr>\n",
       "  </tbody>\n",
       "</table>\n",
       "</div>"
      ],
      "text/plain": [
       "   userId  group                                             rekkos\n",
       "0       1      1  [3576, 55063, 2267, 54328, 5460, 667, 1543, 11...\n",
       "1       2      2  [43267, 93855, 65216, 3112, 33138, 1903, 26791...\n",
       "2       3      2  [43267, 93855, 65216, 3112, 33138, 1903, 26791...\n",
       "3       4      1  [3576, 55063, 2267, 54328, 5460, 667, 1543, 11...\n",
       "4       5      1  [3576, 55063, 2267, 54328, 5460, 667, 1543, 11..."
      ]
     },
     "execution_count": 329,
     "metadata": {},
     "output_type": "execute_result"
    }
   ],
   "source": [
    "recs = fit(data, item_col=ITEM_COLUMN, groups = ['group'])\n",
    "check_recs = recommend(users[['userId', 'group']], recs, ['group'])\n",
    "check_recs.head()"
   ]
  },
  {
   "attachments": {},
   "cell_type": "markdown",
   "metadata": {},
   "source": [
    "Congrats! Your first basic recommender system is ready!!"
   ]
  },
  {
   "attachments": {},
   "cell_type": "markdown",
   "metadata": {},
   "source": [
    "# TODO\n",
    "- Add filtration of watched items to pipeline\n",
    "- Also, consider cases when you fitler watched ones and you have less items in recommendations than required i.e. number of recommendations < MAX_CANDIDATES"
   ]
  },
  {
   "attachments": {},
   "cell_type": "markdown",
   "metadata": {},
   "source": [
    "# Solution\n",
    "- Rewrite `fit` function to generate maximum amount of recommendations (done above)\n",
    "- Add `personalize` function, which will clean user recommendations from watched films and keep only top 20 films\n",
    "- Add `prettify` function to replace movieIds with titles"
   ]
  },
  {
   "cell_type": "code",
   "execution_count": 342,
   "metadata": {},
   "outputs": [],
   "source": [
    "def personalize(\n",
    "    recommendations: pd.DataFrame, \n",
    "    watched: dict = None,\n",
    "    max_candidates: int = 20) -> pd.DataFrame:\n",
    "    \"\"\"\n",
    "    Filter by watched items and return top 20 recommendations\n",
    "    :recommendations: data frame with recomendations \n",
    "    :watched: dictionary of watched movies for every user\n",
    "    :max_candidates: number of recommendations to return\n",
    "    \"\"\"\n",
    "    \n",
    "    if watched is not None:\n",
    "        for user in recommendations['userId'].unique():\n",
    "            watched_movies = watched.get(user, [])\n",
    "            recommendations.loc[recommendations['userId'] == user, 'rekkos'] = \\\n",
    "                recommendations.loc[recommendations['userId'] == user, 'rekkos'].apply(\n",
    "                    lambda x: [movie for movie in x if movie not in watched_movies][:20]\n",
    "                )\n",
    "    \n",
    "    return recommendations"
   ]
  },
  {
   "cell_type": "code",
   "execution_count": 343,
   "metadata": {},
   "outputs": [],
   "source": [
    "def prettify(\n",
    "    df: pd.DataFrame,\n",
    "    metadata: pd.DataFrame = movies_metadata) -> pd.DataFrame:\n",
    "    \"\"\"\n",
    "    Replaces movie IDs in recommendations DataFrame with corresponding movie titles from movies_metadata DataFrame\n",
    "    :df: dataframe with movie codes but not names\n",
    "    \"\"\"\n",
    "    id_to_title = dict(zip(movies_metadata['movieId'], movies_metadata['original_title']))\n",
    "    df['rekkos'] = df['rekkos'].apply(lambda x: [id_to_title.get(movieId, movieId) for movieId in x])\n",
    "    \n",
    "    return df\n"
   ]
  },
  {
   "cell_type": "code",
   "execution_count": 344,
   "metadata": {},
   "outputs": [
    {
     "data": {
      "text/html": [
       "<div>\n",
       "<style scoped>\n",
       "    .dataframe tbody tr th:only-of-type {\n",
       "        vertical-align: middle;\n",
       "    }\n",
       "\n",
       "    .dataframe tbody tr th {\n",
       "        vertical-align: top;\n",
       "    }\n",
       "\n",
       "    .dataframe thead th {\n",
       "        text-align: right;\n",
       "    }\n",
       "</style>\n",
       "<table border=\"1\" class=\"dataframe\">\n",
       "  <thead>\n",
       "    <tr style=\"text-align: right;\">\n",
       "      <th></th>\n",
       "      <th>userId</th>\n",
       "      <th>group</th>\n",
       "      <th>rekkos</th>\n",
       "    </tr>\n",
       "  </thead>\n",
       "  <tbody>\n",
       "    <tr>\n",
       "      <th>0</th>\n",
       "      <td>1</td>\n",
       "      <td>1</td>\n",
       "      <td>[Calling Dr. Gillespie, Still Bill, The Last M...</td>\n",
       "    </tr>\n",
       "    <tr>\n",
       "      <th>1</th>\n",
       "      <td>2</td>\n",
       "      <td>2</td>\n",
       "      <td>[29th Street, Posti in piedi in paradiso, Bloo...</td>\n",
       "    </tr>\n",
       "    <tr>\n",
       "      <th>2</th>\n",
       "      <td>3</td>\n",
       "      <td>2</td>\n",
       "      <td>[29th Street, Posti in piedi in paradiso, Bloo...</td>\n",
       "    </tr>\n",
       "    <tr>\n",
       "      <th>3</th>\n",
       "      <td>4</td>\n",
       "      <td>1</td>\n",
       "      <td>[Calling Dr. Gillespie, Still Bill, The Last M...</td>\n",
       "    </tr>\n",
       "    <tr>\n",
       "      <th>4</th>\n",
       "      <td>5</td>\n",
       "      <td>1</td>\n",
       "      <td>[Calling Dr. Gillespie, Still Bill, The Last M...</td>\n",
       "    </tr>\n",
       "    <tr>\n",
       "      <th>...</th>\n",
       "      <td>...</td>\n",
       "      <td>...</td>\n",
       "      <td>...</td>\n",
       "    </tr>\n",
       "    <tr>\n",
       "      <th>666</th>\n",
       "      <td>667</td>\n",
       "      <td>1</td>\n",
       "      <td>[Calling Dr. Gillespie, Still Bill, The Last M...</td>\n",
       "    </tr>\n",
       "    <tr>\n",
       "      <th>667</th>\n",
       "      <td>668</td>\n",
       "      <td>2</td>\n",
       "      <td>[29th Street, Posti in piedi in paradiso, Bloo...</td>\n",
       "    </tr>\n",
       "    <tr>\n",
       "      <th>668</th>\n",
       "      <td>669</td>\n",
       "      <td>1</td>\n",
       "      <td>[Calling Dr. Gillespie, Still Bill, The Last M...</td>\n",
       "    </tr>\n",
       "    <tr>\n",
       "      <th>669</th>\n",
       "      <td>670</td>\n",
       "      <td>2</td>\n",
       "      <td>[29th Street, Posti in piedi in paradiso, Bloo...</td>\n",
       "    </tr>\n",
       "    <tr>\n",
       "      <th>670</th>\n",
       "      <td>671</td>\n",
       "      <td>1</td>\n",
       "      <td>[Calling Dr. Gillespie, Still Bill, The Last M...</td>\n",
       "    </tr>\n",
       "  </tbody>\n",
       "</table>\n",
       "<p>671 rows × 3 columns</p>\n",
       "</div>"
      ],
      "text/plain": [
       "     userId  group                                             rekkos\n",
       "0         1      1  [Calling Dr. Gillespie, Still Bill, The Last M...\n",
       "1         2      2  [29th Street, Posti in piedi in paradiso, Bloo...\n",
       "2         3      2  [29th Street, Posti in piedi in paradiso, Bloo...\n",
       "3         4      1  [Calling Dr. Gillespie, Still Bill, The Last M...\n",
       "4         5      1  [Calling Dr. Gillespie, Still Bill, The Last M...\n",
       "..      ...    ...                                                ...\n",
       "666     667      1  [Calling Dr. Gillespie, Still Bill, The Last M...\n",
       "667     668      2  [29th Street, Posti in piedi in paradiso, Bloo...\n",
       "668     669      1  [Calling Dr. Gillespie, Still Bill, The Last M...\n",
       "669     670      2  [29th Street, Posti in piedi in paradiso, Bloo...\n",
       "670     671      1  [Calling Dr. Gillespie, Still Bill, The Last M...\n",
       "\n",
       "[671 rows x 3 columns]"
      ]
     },
     "execution_count": 344,
     "metadata": {},
     "output_type": "execute_result"
    }
   ],
   "source": [
    "prettify(check_recs)"
   ]
  }
 ],
 "metadata": {
  "kernelspec": {
   "display_name": "base",
   "language": "python",
   "name": "python3"
  },
  "language_info": {
   "codemirror_mode": {
    "name": "ipython",
    "version": 3
   },
   "file_extension": ".py",
   "mimetype": "text/x-python",
   "name": "python",
   "nbconvert_exporter": "python",
   "pygments_lexer": "ipython3",
   "version": "3.9.7"
  },
  "vscode": {
   "interpreter": {
    "hash": "9ab0eddcdd4345bf42871f5b22706d6feaff3d82833866fa69ae96c64124730e"
   }
  },
  "widgets": {
   "application/vnd.jupyter.widget-state+json": {
    "state": {},
    "version_major": 2,
    "version_minor": 0
   }
  }
 },
 "nbformat": 4,
 "nbformat_minor": 4
}
