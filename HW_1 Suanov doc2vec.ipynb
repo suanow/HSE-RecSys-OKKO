{
 "cells": [
  {
   "attachments": {},
   "cell_type": "markdown",
   "metadata": {},
   "source": [
    "# 0. Configuration"
   ]
  },
  {
   "cell_type": "code",
   "execution_count": 9,
   "metadata": {},
   "outputs": [],
   "source": [
    "# links to shared data MovieLens\n",
    "# source on kaggle: https://www.kaggle.com/code/quangnhatbui/movie-recommender/data\n",
    "MOVIES_METADATA_URL = 'https://drive.google.com/file/d/19g6-apYbZb5D-wRj4L7aYKhxS-fDM4Fb/view?usp=share_link'"
   ]
  },
  {
   "attachments": {},
   "cell_type": "markdown",
   "metadata": {},
   "source": [
    "# 1. Modules and functions"
   ]
  },
  {
   "cell_type": "code",
   "execution_count": 10,
   "metadata": {},
   "outputs": [
    {
     "name": "stderr",
     "output_type": "stream",
     "text": [
      "[nltk_data] Downloading package stopwords to\n",
      "[nltk_data]     /Users/suanow/nltk_data...\n",
      "[nltk_data]   Package stopwords is already up-to-date!\n"
     ]
    },
    {
     "data": {
      "text/plain": [
       "True"
      ]
     },
     "execution_count": 10,
     "metadata": {},
     "output_type": "execute_result"
    }
   ],
   "source": [
    "import re\n",
    "import nltk\n",
    "import numpy as np\n",
    "import pandas as pd\n",
    "from tqdm import tqdm_notebook\n",
    "from ast import literal_eval\n",
    "from pymystem3 import Mystem\n",
    "from string import punctuation\n",
    "from nltk.corpus import stopwords\n",
    "from nltk.tokenize import word_tokenize\n",
    "from gensim.models.doc2vec import Doc2Vec, TaggedDocument\n",
    "from wordcloud import WordCloud\n",
    "import matplotlib.pyplot as plt\n",
    "import umap.umap_ as umap\n",
    "\n",
    "import warnings\n",
    "warnings.filterwarnings('ignore')\n",
    "\n",
    "# download stop words beforehand\n",
    "nltk.download('stopwords')\n"
   ]
  },
  {
   "attachments": {},
   "cell_type": "markdown",
   "metadata": {},
   "source": [
    "## 1.1. Helper functions to avoid copypaste"
   ]
  },
  {
   "cell_type": "code",
   "execution_count": 11,
   "metadata": {},
   "outputs": [],
   "source": [
    "def read_csv_from_gdrive(url):\n",
    "    \"\"\"\n",
    "    gets csv data from a given url (taken from file -> share -> copy link)\n",
    "    :url: example https://drive.google.com/file/d/1BlZfCLLs5A13tbNSJZ1GPkHLWQOnPlE4/view?usp=share_link\n",
    "    \"\"\"\n",
    "    file_id = url.split('/')[-2]\n",
    "    file_path = 'https://drive.google.com/uc?export=download&id=' + file_id\n",
    "    data = pd.read_csv(file_path)\n",
    "\n",
    "    return data"
   ]
  },
  {
   "cell_type": "code",
   "execution_count": 12,
   "metadata": {},
   "outputs": [],
   "source": [
    "# init lemmatizer to avoid slow performance\n",
    "mystem = Mystem() \n",
    "\n",
    "def word_tokenize_clean(doc: str, stop_words: list):\n",
    "    '''\n",
    "    tokenize from string to list of words\n",
    "    '''\n",
    "\n",
    "    # split into lower case word tokens \\w lemmatization\n",
    "    tokens = list(set(mystem.lemmatize(doc.lower())))\n",
    "  \n",
    "    # remove tokens that are not alphabetic (including punctuation) and not a stop word\n",
    "    tokens = [word for word in tokens if word.isalpha() and not word in stop_words \\\n",
    "              not in list(punctuation)]\n",
    "    return tokens"
   ]
  },
  {
   "attachments": {},
   "cell_type": "markdown",
   "metadata": {},
   "source": [
    "# 2. Main"
   ]
  },
  {
   "attachments": {},
   "cell_type": "markdown",
   "metadata": {},
   "source": [
    "## 2.1. Data Preparation"
   ]
  },
  {
   "cell_type": "code",
   "execution_count": 13,
   "metadata": {},
   "outputs": [
    {
     "data": {
      "text/html": [
       "<div>\n",
       "<style scoped>\n",
       "    .dataframe tbody tr th:only-of-type {\n",
       "        vertical-align: middle;\n",
       "    }\n",
       "\n",
       "    .dataframe tbody tr th {\n",
       "        vertical-align: top;\n",
       "    }\n",
       "\n",
       "    .dataframe thead th {\n",
       "        text-align: right;\n",
       "    }\n",
       "</style>\n",
       "<table border=\"1\" class=\"dataframe\">\n",
       "  <thead>\n",
       "    <tr style=\"text-align: right;\">\n",
       "      <th></th>\n",
       "      <th>adult</th>\n",
       "      <th>belongs_to_collection</th>\n",
       "      <th>budget</th>\n",
       "      <th>genres</th>\n",
       "      <th>homepage</th>\n",
       "      <th>id</th>\n",
       "      <th>imdb_id</th>\n",
       "      <th>original_language</th>\n",
       "      <th>original_title</th>\n",
       "      <th>overview</th>\n",
       "      <th>...</th>\n",
       "      <th>release_date</th>\n",
       "      <th>revenue</th>\n",
       "      <th>runtime</th>\n",
       "      <th>spoken_languages</th>\n",
       "      <th>status</th>\n",
       "      <th>tagline</th>\n",
       "      <th>title</th>\n",
       "      <th>video</th>\n",
       "      <th>vote_average</th>\n",
       "      <th>vote_count</th>\n",
       "    </tr>\n",
       "  </thead>\n",
       "  <tbody>\n",
       "    <tr>\n",
       "      <th>0</th>\n",
       "      <td>False</td>\n",
       "      <td>{'id': 10194, 'name': 'Toy Story Collection', ...</td>\n",
       "      <td>30000000</td>\n",
       "      <td>[{'id': 16, 'name': 'Animation'}, {'id': 35, '...</td>\n",
       "      <td>http://toystory.disney.com/toy-story</td>\n",
       "      <td>862</td>\n",
       "      <td>tt0114709</td>\n",
       "      <td>en</td>\n",
       "      <td>Toy Story</td>\n",
       "      <td>Led by Woody, Andy's toys live happily in his ...</td>\n",
       "      <td>...</td>\n",
       "      <td>1995-10-30</td>\n",
       "      <td>373554033.0</td>\n",
       "      <td>81.0</td>\n",
       "      <td>[{'iso_639_1': 'en', 'name': 'English'}]</td>\n",
       "      <td>Released</td>\n",
       "      <td>NaN</td>\n",
       "      <td>Toy Story</td>\n",
       "      <td>False</td>\n",
       "      <td>7.7</td>\n",
       "      <td>5415.0</td>\n",
       "    </tr>\n",
       "    <tr>\n",
       "      <th>1</th>\n",
       "      <td>False</td>\n",
       "      <td>NaN</td>\n",
       "      <td>65000000</td>\n",
       "      <td>[{'id': 12, 'name': 'Adventure'}, {'id': 14, '...</td>\n",
       "      <td>NaN</td>\n",
       "      <td>8844</td>\n",
       "      <td>tt0113497</td>\n",
       "      <td>en</td>\n",
       "      <td>Jumanji</td>\n",
       "      <td>When siblings Judy and Peter discover an encha...</td>\n",
       "      <td>...</td>\n",
       "      <td>1995-12-15</td>\n",
       "      <td>262797249.0</td>\n",
       "      <td>104.0</td>\n",
       "      <td>[{'iso_639_1': 'en', 'name': 'English'}, {'iso...</td>\n",
       "      <td>Released</td>\n",
       "      <td>Roll the dice and unleash the excitement!</td>\n",
       "      <td>Jumanji</td>\n",
       "      <td>False</td>\n",
       "      <td>6.9</td>\n",
       "      <td>2413.0</td>\n",
       "    </tr>\n",
       "    <tr>\n",
       "      <th>2</th>\n",
       "      <td>False</td>\n",
       "      <td>{'id': 119050, 'name': 'Grumpy Old Men Collect...</td>\n",
       "      <td>0</td>\n",
       "      <td>[{'id': 10749, 'name': 'Romance'}, {'id': 35, ...</td>\n",
       "      <td>NaN</td>\n",
       "      <td>15602</td>\n",
       "      <td>tt0113228</td>\n",
       "      <td>en</td>\n",
       "      <td>Grumpier Old Men</td>\n",
       "      <td>A family wedding reignites the ancient feud be...</td>\n",
       "      <td>...</td>\n",
       "      <td>1995-12-22</td>\n",
       "      <td>0.0</td>\n",
       "      <td>101.0</td>\n",
       "      <td>[{'iso_639_1': 'en', 'name': 'English'}]</td>\n",
       "      <td>Released</td>\n",
       "      <td>Still Yelling. Still Fighting. Still Ready for...</td>\n",
       "      <td>Grumpier Old Men</td>\n",
       "      <td>False</td>\n",
       "      <td>6.5</td>\n",
       "      <td>92.0</td>\n",
       "    </tr>\n",
       "  </tbody>\n",
       "</table>\n",
       "<p>3 rows × 24 columns</p>\n",
       "</div>"
      ],
      "text/plain": [
       "   adult                              belongs_to_collection    budget  \\\n",
       "0  False  {'id': 10194, 'name': 'Toy Story Collection', ...  30000000   \n",
       "1  False                                                NaN  65000000   \n",
       "2  False  {'id': 119050, 'name': 'Grumpy Old Men Collect...         0   \n",
       "\n",
       "                                              genres  \\\n",
       "0  [{'id': 16, 'name': 'Animation'}, {'id': 35, '...   \n",
       "1  [{'id': 12, 'name': 'Adventure'}, {'id': 14, '...   \n",
       "2  [{'id': 10749, 'name': 'Romance'}, {'id': 35, ...   \n",
       "\n",
       "                               homepage     id    imdb_id original_language  \\\n",
       "0  http://toystory.disney.com/toy-story    862  tt0114709                en   \n",
       "1                                   NaN   8844  tt0113497                en   \n",
       "2                                   NaN  15602  tt0113228                en   \n",
       "\n",
       "     original_title                                           overview  ...  \\\n",
       "0         Toy Story  Led by Woody, Andy's toys live happily in his ...  ...   \n",
       "1           Jumanji  When siblings Judy and Peter discover an encha...  ...   \n",
       "2  Grumpier Old Men  A family wedding reignites the ancient feud be...  ...   \n",
       "\n",
       "  release_date      revenue runtime  \\\n",
       "0   1995-10-30  373554033.0    81.0   \n",
       "1   1995-12-15  262797249.0   104.0   \n",
       "2   1995-12-22          0.0   101.0   \n",
       "\n",
       "                                    spoken_languages    status  \\\n",
       "0           [{'iso_639_1': 'en', 'name': 'English'}]  Released   \n",
       "1  [{'iso_639_1': 'en', 'name': 'English'}, {'iso...  Released   \n",
       "2           [{'iso_639_1': 'en', 'name': 'English'}]  Released   \n",
       "\n",
       "                                             tagline             title  video  \\\n",
       "0                                                NaN         Toy Story  False   \n",
       "1          Roll the dice and unleash the excitement!           Jumanji  False   \n",
       "2  Still Yelling. Still Fighting. Still Ready for...  Grumpier Old Men  False   \n",
       "\n",
       "  vote_average vote_count  \n",
       "0          7.7     5415.0  \n",
       "1          6.9     2413.0  \n",
       "2          6.5       92.0  \n",
       "\n",
       "[3 rows x 24 columns]"
      ]
     },
     "execution_count": 13,
     "metadata": {},
     "output_type": "execute_result"
    }
   ],
   "source": [
    "# read csv information about films etc\n",
    "movies_metadata = read_csv_from_gdrive(MOVIES_METADATA_URL)\n",
    "movies_metadata.head(3)"
   ]
  },
  {
   "cell_type": "code",
   "execution_count": 14,
   "metadata": {},
   "outputs": [
    {
     "data": {
      "text/plain": [
       "Index(['adult', 'belongs_to_collection', 'budget', 'genres', 'homepage', 'id',\n",
       "       'imdb_id', 'original_language', 'original_title', 'overview',\n",
       "       'popularity', 'poster_path', 'production_companies',\n",
       "       'production_countries', 'release_date', 'revenue', 'runtime',\n",
       "       'spoken_languages', 'status', 'tagline', 'title', 'video',\n",
       "       'vote_average', 'vote_count'],\n",
       "      dtype='object')"
      ]
     },
     "execution_count": 14,
     "metadata": {},
     "output_type": "execute_result"
    }
   ],
   "source": [
    "# let's see what columns we have\n",
    "movies_metadata.columns"
   ]
  },
  {
   "attachments": {},
   "cell_type": "markdown",
   "metadata": {},
   "source": [
    "To get accurate results we need to preprocess text a bit. The pipeline will be as follows:\n",
    "\n",
    "- Filter only necessary columns from movies_metadada : id, original_title, overview;\n",
    "- Define `model_index` for model to match back with `id` column;\n",
    "- Text cleaning: removing stopwords & punctuation, lemmatization for further tokenization and tagged document creatin required for gensim.Doc2Vec"
   ]
  },
  {
   "cell_type": "code",
   "execution_count": 15,
   "metadata": {},
   "outputs": [
    {
     "name": "stdout",
     "output_type": "stream",
     "text": [
      "<class 'pandas.core.frame.DataFrame'>\n",
      "RangeIndex: 45466 entries, 0 to 45465\n",
      "Data columns (total 3 columns):\n",
      " #   Column          Non-Null Count  Dtype \n",
      "---  ------          --------------  ----- \n",
      " 0   id              45466 non-null  object\n",
      " 1   original_title  45466 non-null  object\n",
      " 2   overview        44512 non-null  object\n",
      "dtypes: object(3)\n",
      "memory usage: 1.0+ MB\n"
     ]
    }
   ],
   "source": [
    "# filter cols\n",
    "sample = movies_metadata[['id', 'original_title', 'overview']].copy()\n",
    "sample.info()"
   ]
  },
  {
   "cell_type": "code",
   "execution_count": 16,
   "metadata": {},
   "outputs": [
    {
     "data": {
      "text/plain": [
       "id                0\n",
       "original_title    0\n",
       "overview          0\n",
       "dtype: int64"
      ]
     },
     "execution_count": 16,
     "metadata": {},
     "output_type": "execute_result"
    }
   ],
   "source": [
    "# as you see from above, we have missing overview in some cases -- let's fill it with the original title\n",
    "sample.loc[sample['overview'].isnull(), 'overview'] = sample.loc[sample['overview'].isnull(), 'original_title']\n",
    "sample.isnull().sum()"
   ]
  },
  {
   "cell_type": "code",
   "execution_count": 17,
   "metadata": {},
   "outputs": [],
   "source": [
    "# define model_index and make it as string\n",
    "sample = sample.reset_index().rename(columns = {'index': 'model_index'})\n",
    "sample['model_index'] = sample['model_index'].astype(str)"
   ]
  },
  {
   "cell_type": "code",
   "execution_count": 18,
   "metadata": {},
   "outputs": [],
   "source": [
    "# create mapper with title and model_idnex to use it further in evaluation\n",
    "movies_inv_mapper = dict(zip(sample['original_title'].str.lower(), sample['model_index'].astype(int)))"
   ]
  },
  {
   "cell_type": "code",
   "execution_count": 19,
   "metadata": {},
   "outputs": [
    {
     "data": {
      "text/plain": [
       "[['live',\n",
       "  'aside',\n",
       "  'happily',\n",
       "  'room',\n",
       "  'afraid',\n",
       "  'losing',\n",
       "  'circumstances',\n",
       "  'buzz',\n",
       "  'place',\n",
       "  'andy',\n",
       "  'plots',\n",
       "  'heart',\n",
       "  'eventually',\n",
       "  'owner',\n",
       "  'separate',\n",
       "  'brings',\n",
       "  'onto',\n",
       "  'differences',\n",
       "  'led',\n",
       "  'scene',\n",
       "  'lightyear',\n",
       "  'woody',\n",
       "  'put',\n",
       "  'birthday',\n",
       "  'learns',\n",
       "  'duo',\n",
       "  'toys']]"
      ]
     },
     "execution_count": 19,
     "metadata": {},
     "output_type": "execute_result"
    }
   ],
   "source": [
    "# preprocess by removing non-character data, stopwords\n",
    "tags_corpus = sample['overview'].values\n",
    "tags_corpus = [re.sub('-[!/()0-9]', '', x) for x in tags_corpus]\n",
    "stop_words = stopwords.words('english')\n",
    "\n",
    "tags_doc = [word_tokenize_clean(description, stop_words) for description in tags_corpus]\n",
    "tags_doc[:1]"
   ]
  },
  {
   "cell_type": "code",
   "execution_count": 20,
   "metadata": {},
   "outputs": [],
   "source": [
    "# prepare data as model input for Word2Vec\n",
    "## it takes some time to execute\n",
    "tags_doc = [TaggedDocument(words = word_tokenize_clean(D, stop_words), tags = [str(i)]) for i, D in enumerate(tags_corpus)]"
   ]
  },
  {
   "cell_type": "code",
   "execution_count": 21,
   "metadata": {},
   "outputs": [
    {
     "data": {
      "text/plain": [
       "TaggedDocument(words=['peter', 'unwittingly', 'alan', 'inside', 'room', 'find', 'board', 'discover', 'world', 'monkeys', 'proves', 'trapped', 'siblings', 'invite', 'risky', 'three', 'opens', 'giant', 'judy', 'living', 'game', 'rhinoceroses', 'magical', 'enchanted', 'terrifying', 'freedom', 'years', 'evil', 'creatures', 'hope', 'finish', 'adult', 'door', 'running'], tags=['1'])"
      ]
     },
     "execution_count": 21,
     "metadata": {},
     "output_type": "execute_result"
    }
   ],
   "source": [
    "# let's check what do we have\n",
    "## tag = movie index\n",
    "tags_doc[1]"
   ]
  },
  {
   "attachments": {},
   "cell_type": "markdown",
   "metadata": {},
   "source": [
    "# 2.2. Model Training and Evaluation"
   ]
  },
  {
   "cell_type": "code",
   "execution_count": 22,
   "metadata": {},
   "outputs": [],
   "source": [
    "VEC_SIZE = 50\n",
    "ALPHA = .02\n",
    "MIN_ALPHA = .00025\n",
    "MIN_COUNT = 5\n",
    "EPOCHS = 20"
   ]
  },
  {
   "cell_type": "code",
   "execution_count": 23,
   "metadata": {},
   "outputs": [],
   "source": [
    "# initialize\n",
    "model = Doc2Vec(vector_size = VEC_SIZE,\n",
    "                alpha = ALPHA, \n",
    "                min_alpha = MIN_ALPHA,\n",
    "                min_count = MIN_COUNT,\n",
    "                dm = 0)"
   ]
  },
  {
   "cell_type": "code",
   "execution_count": 24,
   "metadata": {},
   "outputs": [],
   "source": [
    "# generate vocab from all tag docs\n",
    "model.build_vocab(tags_doc)"
   ]
  },
  {
   "cell_type": "code",
   "execution_count": 25,
   "metadata": {},
   "outputs": [],
   "source": [
    "# train model\n",
    "model.train(tags_doc,\n",
    "            total_examples = model.corpus_count,\n",
    "            epochs = EPOCHS)"
   ]
  },
  {
   "attachments": {},
   "cell_type": "markdown",
   "metadata": {},
   "source": [
    "## 2.3. Evaluate the model"
   ]
  },
  {
   "attachments": {},
   "cell_type": "markdown",
   "metadata": {},
   "source": [
    "Let's assume that we watched movie `batman` and based on that generate recommendation similar to it's description.\n",
    "\n",
    "To do that we need\n",
    "- To extract movie id from `movies_inv_mapper` we created to map back titles from model output\n",
    "- Load embeddings from trained model\n",
    "- Use built-in most_similar() method to get most relevant recommendations based on film embedding\n",
    "- Finally, map title names for sense-check"
   ]
  },
  {
   "cell_type": "code",
   "execution_count": 26,
   "metadata": {},
   "outputs": [
    {
     "data": {
      "text/plain": [
       "8603"
      ]
     },
     "execution_count": 26,
     "metadata": {},
     "output_type": "execute_result"
    }
   ],
   "source": [
    "# get id\n",
    "movie_id = movies_inv_mapper['batman']\n",
    "movie_id"
   ]
  },
  {
   "cell_type": "code",
   "execution_count": 27,
   "metadata": {},
   "outputs": [],
   "source": [
    "# load trained embeddings \n",
    "movies_vectors_1 = model.dv.vectors"
   ]
  },
  {
   "cell_type": "code",
   "execution_count": 28,
   "metadata": {},
   "outputs": [],
   "source": [
    "movie_embeddings = movies_vectors_1[movie_id]"
   ]
  },
  {
   "cell_type": "code",
   "execution_count": 29,
   "metadata": {},
   "outputs": [
    {
     "data": {
      "text/html": [
       "<div>\n",
       "<style scoped>\n",
       "    .dataframe tbody tr th:only-of-type {\n",
       "        vertical-align: middle;\n",
       "    }\n",
       "\n",
       "    .dataframe tbody tr th {\n",
       "        vertical-align: top;\n",
       "    }\n",
       "\n",
       "    .dataframe thead th {\n",
       "        text-align: right;\n",
       "    }\n",
       "</style>\n",
       "<table border=\"1\" class=\"dataframe\">\n",
       "  <thead>\n",
       "    <tr style=\"text-align: right;\">\n",
       "      <th></th>\n",
       "      <th>model_index</th>\n",
       "      <th>model_score</th>\n",
       "    </tr>\n",
       "  </thead>\n",
       "  <tbody>\n",
       "    <tr>\n",
       "      <th>0</th>\n",
       "      <td>8603</td>\n",
       "      <td>1.000000</td>\n",
       "    </tr>\n",
       "    <tr>\n",
       "      <th>1</th>\n",
       "      <td>5713</td>\n",
       "      <td>0.947819</td>\n",
       "    </tr>\n",
       "    <tr>\n",
       "      <th>2</th>\n",
       "      <td>7772</td>\n",
       "      <td>0.947441</td>\n",
       "    </tr>\n",
       "    <tr>\n",
       "      <th>3</th>\n",
       "      <td>29872</td>\n",
       "      <td>0.945235</td>\n",
       "    </tr>\n",
       "    <tr>\n",
       "      <th>4</th>\n",
       "      <td>43461</td>\n",
       "      <td>0.944393</td>\n",
       "    </tr>\n",
       "  </tbody>\n",
       "</table>\n",
       "</div>"
      ],
      "text/plain": [
       "  model_index  model_score\n",
       "0        8603     1.000000\n",
       "1        5713     0.947819\n",
       "2        7772     0.947441\n",
       "3       29872     0.945235\n",
       "4       43461     0.944393"
      ]
     },
     "execution_count": 29,
     "metadata": {},
     "output_type": "execute_result"
    }
   ],
   "source": [
    "# get recommendations\n",
    "similars = model.docvecs.most_similar(positive = [movie_embeddings], topn = 20)\n",
    "output = pd.DataFrame(similars, columns = ['model_index', 'model_score'])\n",
    "output.head()"
   ]
  },
  {
   "cell_type": "code",
   "execution_count": 30,
   "metadata": {},
   "outputs": [],
   "source": [
    "# reverse values and indices to map names in dataframe\n",
    "name_mapper = {v: k for k, v in movies_inv_mapper.items()}"
   ]
  },
  {
   "cell_type": "code",
   "execution_count": 31,
   "metadata": {},
   "outputs": [
    {
     "data": {
      "text/html": [
       "<div>\n",
       "<style scoped>\n",
       "    .dataframe tbody tr th:only-of-type {\n",
       "        vertical-align: middle;\n",
       "    }\n",
       "\n",
       "    .dataframe tbody tr th {\n",
       "        vertical-align: top;\n",
       "    }\n",
       "\n",
       "    .dataframe thead th {\n",
       "        text-align: right;\n",
       "    }\n",
       "</style>\n",
       "<table border=\"1\" class=\"dataframe\">\n",
       "  <thead>\n",
       "    <tr style=\"text-align: right;\">\n",
       "      <th></th>\n",
       "      <th>model_index</th>\n",
       "      <th>model_score</th>\n",
       "      <th>title_name</th>\n",
       "    </tr>\n",
       "  </thead>\n",
       "  <tbody>\n",
       "    <tr>\n",
       "      <th>0</th>\n",
       "      <td>8603</td>\n",
       "      <td>1.000000</td>\n",
       "      <td>batman</td>\n",
       "    </tr>\n",
       "    <tr>\n",
       "      <th>1</th>\n",
       "      <td>5713</td>\n",
       "      <td>0.947819</td>\n",
       "      <td>rollover</td>\n",
       "    </tr>\n",
       "    <tr>\n",
       "      <th>2</th>\n",
       "      <td>7772</td>\n",
       "      <td>0.947441</td>\n",
       "      <td>this island earth</td>\n",
       "    </tr>\n",
       "    <tr>\n",
       "      <th>3</th>\n",
       "      <td>29872</td>\n",
       "      <td>0.945235</td>\n",
       "      <td>angels die hard</td>\n",
       "    </tr>\n",
       "    <tr>\n",
       "      <th>4</th>\n",
       "      <td>43461</td>\n",
       "      <td>0.944393</td>\n",
       "      <td>megafault</td>\n",
       "    </tr>\n",
       "    <tr>\n",
       "      <th>5</th>\n",
       "      <td>26340</td>\n",
       "      <td>0.944045</td>\n",
       "      <td>the siege of firebase gloria</td>\n",
       "    </tr>\n",
       "    <tr>\n",
       "      <th>6</th>\n",
       "      <td>24433</td>\n",
       "      <td>0.943327</td>\n",
       "      <td>the creeping terror</td>\n",
       "    </tr>\n",
       "    <tr>\n",
       "      <th>7</th>\n",
       "      <td>28001</td>\n",
       "      <td>0.942440</td>\n",
       "      <td>reach me</td>\n",
       "    </tr>\n",
       "    <tr>\n",
       "      <th>8</th>\n",
       "      <td>43165</td>\n",
       "      <td>0.942377</td>\n",
       "      <td>the zookeeper's wife</td>\n",
       "    </tr>\n",
       "    <tr>\n",
       "      <th>9</th>\n",
       "      <td>13835</td>\n",
       "      <td>0.942233</td>\n",
       "      <td>k2</td>\n",
       "    </tr>\n",
       "    <tr>\n",
       "      <th>10</th>\n",
       "      <td>14331</td>\n",
       "      <td>0.939285</td>\n",
       "      <td>the dark lurking</td>\n",
       "    </tr>\n",
       "    <tr>\n",
       "      <th>11</th>\n",
       "      <td>2175</td>\n",
       "      <td>0.938261</td>\n",
       "      <td>NaN</td>\n",
       "    </tr>\n",
       "    <tr>\n",
       "      <th>12</th>\n",
       "      <td>16179</td>\n",
       "      <td>0.938046</td>\n",
       "      <td>dishonored</td>\n",
       "    </tr>\n",
       "    <tr>\n",
       "      <th>13</th>\n",
       "      <td>22017</td>\n",
       "      <td>0.937850</td>\n",
       "      <td>outside the law</td>\n",
       "    </tr>\n",
       "    <tr>\n",
       "      <th>14</th>\n",
       "      <td>19114</td>\n",
       "      <td>0.937489</td>\n",
       "      <td>doragon bōru zetto: gekitotsu!! hyaku-oku pawā...</td>\n",
       "    </tr>\n",
       "    <tr>\n",
       "      <th>15</th>\n",
       "      <td>26215</td>\n",
       "      <td>0.937370</td>\n",
       "      <td>where do we go from here?</td>\n",
       "    </tr>\n",
       "    <tr>\n",
       "      <th>16</th>\n",
       "      <td>12330</td>\n",
       "      <td>0.936529</td>\n",
       "      <td>the detonator</td>\n",
       "    </tr>\n",
       "    <tr>\n",
       "      <th>17</th>\n",
       "      <td>19426</td>\n",
       "      <td>0.936197</td>\n",
       "      <td>suicide club</td>\n",
       "    </tr>\n",
       "    <tr>\n",
       "      <th>18</th>\n",
       "      <td>23094</td>\n",
       "      <td>0.936055</td>\n",
       "      <td>bloodrayne ii: deliverance</td>\n",
       "    </tr>\n",
       "    <tr>\n",
       "      <th>19</th>\n",
       "      <td>1045</td>\n",
       "      <td>0.935813</td>\n",
       "      <td>sleeper</td>\n",
       "    </tr>\n",
       "  </tbody>\n",
       "</table>\n",
       "</div>"
      ],
      "text/plain": [
       "   model_index  model_score                                         title_name\n",
       "0         8603     1.000000                                             batman\n",
       "1         5713     0.947819                                           rollover\n",
       "2         7772     0.947441                                  this island earth\n",
       "3        29872     0.945235                                    angels die hard\n",
       "4        43461     0.944393                                          megafault\n",
       "5        26340     0.944045                       the siege of firebase gloria\n",
       "6        24433     0.943327                                the creeping terror\n",
       "7        28001     0.942440                                           reach me\n",
       "8        43165     0.942377                               the zookeeper's wife\n",
       "9        13835     0.942233                                                 k2\n",
       "10       14331     0.939285                                   the dark lurking\n",
       "11        2175     0.938261                                                NaN\n",
       "12       16179     0.938046                                         dishonored\n",
       "13       22017     0.937850                                    outside the law\n",
       "14       19114     0.937489  doragon bōru zetto: gekitotsu!! hyaku-oku pawā...\n",
       "15       26215     0.937370                          where do we go from here?\n",
       "16       12330     0.936529                                      the detonator\n",
       "17       19426     0.936197                                       suicide club\n",
       "18       23094     0.936055                         bloodrayne ii: deliverance\n",
       "19        1045     0.935813                                            sleeper"
      ]
     },
     "execution_count": 31,
     "metadata": {},
     "output_type": "execute_result"
    }
   ],
   "source": [
    "output['title_name'] = output['model_index'].astype(int).map(name_mapper)\n",
    "output\n"
   ]
  },
  {
   "attachments": {},
   "cell_type": "markdown",
   "metadata": {},
   "source": [
    "# TODO"
   ]
  },
  {
   "attachments": {},
   "cell_type": "markdown",
   "metadata": {},
   "source": [
    "- Add `original_title`, `keywords`, `tagline` and other metadata to train sample and then retrain embeddings;\n",
    "- Make visualization of embeddings with links of films with each other;\n",
    "- Compare results with the embeddings we created in lecture\n",
    "- Write function get_recommendations() which takes arguments we used 2.3., but such that we can use embeddings of several watched films to get recommendations"
   ]
  },
  {
   "attachments": {},
   "cell_type": "markdown",
   "metadata": {},
   "source": [
    "# Appendix"
   ]
  },
  {
   "attachments": {},
   "cell_type": "markdown",
   "metadata": {},
   "source": [
    "Here, we wrap up all pipeline into functions to re-use if needed and it is just prettier to code this way :)"
   ]
  },
  {
   "cell_type": "code",
   "execution_count": 32,
   "metadata": {},
   "outputs": [],
   "source": [
    "def get_clean_tags_array(agg_tags: pd.DataFrame,\n",
    "                         text_col = 'tag'):\n",
    "    '''text preprocessing\n",
    "    '''\n",
    "    tags_corpus = agg_tags[text_col].values\n",
    "    tags_corpus = [re.sub('-[!/()0-9]', '', x) for x in tags_corpus]\n",
    "    stop_words = stopwords.words('english')\n",
    "\n",
    "\n",
    "    # preprocess corpus of movie tags before feeding it into Doc2Vec model\n",
    "    tags_doc = [TaggedDocument(words = word_tokenize_clean(D, stop_words), tags = [str(i)]) for i, D in enumerate(tags_corpus)]\n",
    "\n",
    "    return tags_doc\n"
   ]
  },
  {
   "cell_type": "code",
   "execution_count": 33,
   "metadata": {},
   "outputs": [],
   "source": [
    "def train_embeddings(tags_doc: np.array,\n",
    "                     epochs = 20,\n",
    "                     vec_size = 50,\n",
    "                     alpha = .02,\n",
    "                     min_alpha =  0.00025,\n",
    "                     min_count = 5,\n",
    "                     save_path: str = None):\n",
    "    \"\"\"\n",
    "    fit doc2vec model to prepared corpus\n",
    "    :tags_doc: result of get_clean_tags_array()\n",
    "    :max_epocs: int\n",
    "    :vec_size: int\n",
    "    :alpha: float\n",
    "    \"\"\"\n",
    "    #initialize\n",
    "    model = Doc2Vec(vector_size = vec_size,\n",
    "                    alpha = alpha, \n",
    "                    min_alpha = min_alpha,\n",
    "                    min_count = min_count,\n",
    "                    dm = 0)\n",
    "    \n",
    "    #generate vocab from all tag docs\n",
    "    model.build_vocab(tags_doc)\n",
    "    \n",
    "    #train model\n",
    "    model.train(tags_doc,\n",
    "                total_examples = model.corpus_count,\n",
    "                epochs = epochs)\n",
    "    \n",
    "    #save model to dir\n",
    "    if save_path:\n",
    "        model.save(f'{save_path}/d2v_model.pkl')\n",
    "    \n",
    "    return model"
   ]
  },
  {
   "attachments": {},
   "cell_type": "markdown",
   "metadata": {},
   "source": [
    "# Solution\n",
    "- Add `title` and `tagline` to sample metadata"
   ]
  },
  {
   "cell_type": "code",
   "execution_count": 34,
   "metadata": {},
   "outputs": [
    {
     "data": {
      "text/html": [
       "<div>\n",
       "<style scoped>\n",
       "    .dataframe tbody tr th:only-of-type {\n",
       "        vertical-align: middle;\n",
       "    }\n",
       "\n",
       "    .dataframe tbody tr th {\n",
       "        vertical-align: top;\n",
       "    }\n",
       "\n",
       "    .dataframe thead th {\n",
       "        text-align: right;\n",
       "    }\n",
       "</style>\n",
       "<table border=\"1\" class=\"dataframe\">\n",
       "  <thead>\n",
       "    <tr style=\"text-align: right;\">\n",
       "      <th></th>\n",
       "      <th>model_index</th>\n",
       "      <th>model_score</th>\n",
       "      <th>title_name</th>\n",
       "    </tr>\n",
       "  </thead>\n",
       "  <tbody>\n",
       "    <tr>\n",
       "      <th>0</th>\n",
       "      <td>8603</td>\n",
       "      <td>1.000000</td>\n",
       "      <td>batman</td>\n",
       "    </tr>\n",
       "    <tr>\n",
       "      <th>1</th>\n",
       "      <td>34637</td>\n",
       "      <td>0.930708</td>\n",
       "      <td>capitães da areia</td>\n",
       "    </tr>\n",
       "    <tr>\n",
       "      <th>2</th>\n",
       "      <td>4199</td>\n",
       "      <td>0.926482</td>\n",
       "      <td>NaN</td>\n",
       "    </tr>\n",
       "    <tr>\n",
       "      <th>3</th>\n",
       "      <td>43461</td>\n",
       "      <td>0.925865</td>\n",
       "      <td>megafault</td>\n",
       "    </tr>\n",
       "    <tr>\n",
       "      <th>4</th>\n",
       "      <td>35181</td>\n",
       "      <td>0.923769</td>\n",
       "      <td>конек-горбунок</td>\n",
       "    </tr>\n",
       "    <tr>\n",
       "      <th>5</th>\n",
       "      <td>7628</td>\n",
       "      <td>0.923573</td>\n",
       "      <td>sodom and gomorrah</td>\n",
       "    </tr>\n",
       "    <tr>\n",
       "      <th>6</th>\n",
       "      <td>9748</td>\n",
       "      <td>0.923012</td>\n",
       "      <td>NaN</td>\n",
       "    </tr>\n",
       "    <tr>\n",
       "      <th>7</th>\n",
       "      <td>40652</td>\n",
       "      <td>0.922340</td>\n",
       "      <td>homeless in america</td>\n",
       "    </tr>\n",
       "    <tr>\n",
       "      <th>8</th>\n",
       "      <td>39970</td>\n",
       "      <td>0.922108</td>\n",
       "      <td>ufo... annientare s.h.a.d.o. stop. uccidete st...</td>\n",
       "    </tr>\n",
       "    <tr>\n",
       "      <th>9</th>\n",
       "      <td>28001</td>\n",
       "      <td>0.921562</td>\n",
       "      <td>reach me</td>\n",
       "    </tr>\n",
       "    <tr>\n",
       "      <th>10</th>\n",
       "      <td>5674</td>\n",
       "      <td>0.920577</td>\n",
       "      <td>far from heaven</td>\n",
       "    </tr>\n",
       "    <tr>\n",
       "      <th>11</th>\n",
       "      <td>44137</td>\n",
       "      <td>0.920240</td>\n",
       "      <td>другая сторона</td>\n",
       "    </tr>\n",
       "    <tr>\n",
       "      <th>12</th>\n",
       "      <td>14640</td>\n",
       "      <td>0.919350</td>\n",
       "      <td>kala</td>\n",
       "    </tr>\n",
       "    <tr>\n",
       "      <th>13</th>\n",
       "      <td>13835</td>\n",
       "      <td>0.919082</td>\n",
       "      <td>k2</td>\n",
       "    </tr>\n",
       "    <tr>\n",
       "      <th>14</th>\n",
       "      <td>7772</td>\n",
       "      <td>0.917698</td>\n",
       "      <td>this island earth</td>\n",
       "    </tr>\n",
       "    <tr>\n",
       "      <th>15</th>\n",
       "      <td>1476</td>\n",
       "      <td>0.917470</td>\n",
       "      <td>schizopolis</td>\n",
       "    </tr>\n",
       "    <tr>\n",
       "      <th>16</th>\n",
       "      <td>22039</td>\n",
       "      <td>0.915273</td>\n",
       "      <td>chasing ghosts</td>\n",
       "    </tr>\n",
       "    <tr>\n",
       "      <th>17</th>\n",
       "      <td>43636</td>\n",
       "      <td>0.914884</td>\n",
       "      <td>supermenedzher, ili motyga sudby</td>\n",
       "    </tr>\n",
       "    <tr>\n",
       "      <th>18</th>\n",
       "      <td>37652</td>\n",
       "      <td>0.914500</td>\n",
       "      <td>life is sacred</td>\n",
       "    </tr>\n",
       "    <tr>\n",
       "      <th>19</th>\n",
       "      <td>10406</td>\n",
       "      <td>0.913858</td>\n",
       "      <td>francesco, giullare di dio</td>\n",
       "    </tr>\n",
       "  </tbody>\n",
       "</table>\n",
       "</div>"
      ],
      "text/plain": [
       "   model_index  model_score                                         title_name\n",
       "0         8603     1.000000                                             batman\n",
       "1        34637     0.930708                                  capitães da areia\n",
       "2         4199     0.926482                                                NaN\n",
       "3        43461     0.925865                                          megafault\n",
       "4        35181     0.923769                                     конек-горбунок\n",
       "5         7628     0.923573                                 sodom and gomorrah\n",
       "6         9748     0.923012                                                NaN\n",
       "7        40652     0.922340                                homeless in america\n",
       "8        39970     0.922108  ufo... annientare s.h.a.d.o. stop. uccidete st...\n",
       "9        28001     0.921562                                           reach me\n",
       "10        5674     0.920577                                    far from heaven\n",
       "11       44137     0.920240                                     другая сторона\n",
       "12       14640     0.919350                                               kala\n",
       "13       13835     0.919082                                                 k2\n",
       "14        7772     0.917698                                  this island earth\n",
       "15        1476     0.917470                                        schizopolis\n",
       "16       22039     0.915273                                     chasing ghosts\n",
       "17       43636     0.914884                   supermenedzher, ili motyga sudby\n",
       "18       37652     0.914500                                     life is sacred\n",
       "19       10406     0.913858                         francesco, giullare di dio"
      ]
     },
     "execution_count": 34,
     "metadata": {},
     "output_type": "execute_result"
    }
   ],
   "source": [
    "sample = movies_metadata[['id', 'original_title', 'overview', 'tagline']].copy()\n",
    "\n",
    "# as you see from above, we have missing overview in some cases -- let's fill it with the original title\n",
    "sample.loc[sample['overview'].isnull(), 'overview'] = sample.loc[sample['overview'].isnull(), 'original_title']\n",
    "sample.loc[sample['tagline'].isnull(), 'tagline'] = sample.loc[sample['tagline'].isnull(), 'original_title']\n",
    "\n",
    "\n",
    "# define model_index and make it as string\n",
    "sample = sample.reset_index().rename(columns = {'index': 'model_index'})\n",
    "sample['model_index'] = sample['model_index'].astype(str)\n",
    "\n",
    "# create mapper with title and model_idnex to use it further in evaluation\n",
    "movies_inv_mapper = dict(zip(sample['original_title'].str.lower(), sample['model_index'].astype(int)))\n",
    "\n",
    "# preprocess by removing non-character data, stopwords\n",
    "tags_corpus = (sample['overview'].values + ' ' + sample['original_title'].values + ' ' + sample['tagline'].values)\n",
    "tags_corpus = [re.sub('-[!/()0-9]', '', x) for x in tags_corpus]\n",
    "stop_words = stopwords.words('english')\n",
    "\n",
    "tags_doc = [word_tokenize_clean(description, stop_words) for description in tags_corpus]\n",
    "\n",
    "# prepare data as model input for Word2Vec\n",
    "## it takes some time to execute\n",
    "tags_doc = [TaggedDocument(words = word_tokenize_clean(D, stop_words), tags = [str(i)]) for i, D in enumerate(tags_corpus)]\n",
    "\n",
    "# let's check what do we have\n",
    "## tag = movie index\n",
    "tags_doc[1]\n",
    "\n",
    "model = Doc2Vec(vector_size = VEC_SIZE,\n",
    "                alpha = ALPHA, \n",
    "                min_alpha = MIN_ALPHA,\n",
    "                min_count = MIN_COUNT,\n",
    "                dm = 0)\n",
    "\n",
    "model.build_vocab(tags_doc)\n",
    "\n",
    "# train model\n",
    "model.train(tags_doc,\n",
    "            total_examples = model.corpus_count,\n",
    "            epochs = EPOCHS)\n",
    "\n",
    "# get id\n",
    "movie_id = movies_inv_mapper['batman']\n",
    "\n",
    "# load trained embeddings \n",
    "movies_vectors = model.dv.vectors\n",
    "\n",
    "movie_embeddings = movies_vectors[movie_id]\n",
    "\n",
    "# get recommendations\n",
    "similars = model.docvecs.most_similar(positive = [movie_embeddings], topn = 20)\n",
    "output2 = pd.DataFrame(similars, columns = ['model_index', 'model_score'])\n",
    "\n",
    "# reverse values and indices to map names in dataframe\n",
    "name_mapper = {v: k for k, v in movies_inv_mapper.items()}\n",
    "\n",
    "output2['title_name'] = output2['model_index'].astype(int).map(name_mapper)\n",
    "output2"
   ]
  },
  {
   "attachments": {},
   "cell_type": "markdown",
   "metadata": {},
   "source": [
    "- Make visualization of embeddings with links of films with each other; "
   ]
  },
  {
   "cell_type": "code",
   "execution_count": 35,
   "metadata": {},
   "outputs": [
    {
     "name": "stderr",
     "output_type": "stream",
     "text": [
      "OMP: Info #271: omp_set_nested routine deprecated, please use omp_set_max_active_levels instead.\n"
     ]
    },
    {
     "data": {
      "image/png": "[encoded data removed]",
      "text/plain": [
       "<Figure size 720x720 with 1 Axes>"
      ]
     },
     "metadata": {
      "needs_background": "light"
     },
     "output_type": "display_data"
    },
    {
     "data": {
      "image/png": "[encoded data removed]",
      "text/plain": [
       "<Figure size 720x720 with 1 Axes>"
      ]
     },
     "metadata": {
      "needs_background": "light"
     },
     "output_type": "display_data"
    }
   ],
   "source": [
    "def visualize_movie_embeddings(movie_vectors, movie_titles):\n",
    "    umap_embeddings = umap.UMAP(n_neighbors=15,\n",
    "                                n_components=2,\n",
    "                                min_dist=0.1,\n",
    "                                metric='correlation').fit_transform(movie_vectors)\n",
    "\n",
    "    plt.figure(figsize=(10,10))\n",
    "    plt.scatter(umap_embeddings[:, 0], umap_embeddings[:, 1], s=50, alpha=0.5, c='r')\n",
    "    \n",
    "    for i, title in enumerate(movie_titles):\n",
    "        plt.annotate(title, (umap_embeddings[i,0], umap_embeddings[i,1]))\n",
    "        \n",
    "    plt.show()\n",
    "\n",
    "\n",
    "movie_titles = movies_metadata['original_title'].values\n",
    "\n",
    "visualize_movie_embeddings(movies_vectors_1[:20], movie_titles[:20]) # lecture \n",
    "visualize_movie_embeddings(movies_vectors[:20], movie_titles[:20]) # hw"
   ]
  },
  {
   "attachments": {},
   "cell_type": "markdown",
   "metadata": {},
   "source": [
    "We can see, that the distribution changed. Lecture output is has a \"falling\" trend, and hw output has \"rising\" trend"
   ]
  },
  {
   "attachments": {},
   "cell_type": "markdown",
   "metadata": {},
   "source": [
    "- Write function get_recommendations() which takes arguments we used 2.3., but such that we can use embeddings of several watched films to get recommendations"
   ]
  },
  {
   "cell_type": "code",
   "execution_count": 36,
   "metadata": {},
   "outputs": [],
   "source": [
    "def get_recommendations(movie_titles: list) -> pd.DataFrame:\n",
    "    \"\"\"\n",
    "    Takes a list of movie titles and returns recommendations based on the combined embeddings.\n",
    "    :movie_titles: List of movie titles.\n",
    "    \"\"\"\n",
    "    \n",
    "    indices = [movies_inv_mapper[title.lower()] for title in movie_titles if title.lower() in movies_inv_mapper]\n",
    "\n",
    "    if not indices:\n",
    "        print('Please send valid titles')\n",
    "        return\n",
    "\n",
    "    movie_embeddings = np.mean(movies_vectors[indices], axis=0)\n",
    "    similars = model.docvecs.most_similar(positive=[movie_embeddings], topn=20)\n",
    "    recommendation = pd.DataFrame(similars, columns=['model_index', 'model_score'])\n",
    "\n",
    "    recommendation['title_name'] = output['model_index'].astype(int).map(name_mapper)\n",
    "\n",
    "    return recommendation\n"
   ]
  },
  {
   "cell_type": "code",
   "execution_count": 38,
   "metadata": {},
   "outputs": [
    {
     "data": {
      "text/html": [
       "<div>\n",
       "<style scoped>\n",
       "    .dataframe tbody tr th:only-of-type {\n",
       "        vertical-align: middle;\n",
       "    }\n",
       "\n",
       "    .dataframe tbody tr th {\n",
       "        vertical-align: top;\n",
       "    }\n",
       "\n",
       "    .dataframe thead th {\n",
       "        text-align: right;\n",
       "    }\n",
       "</style>\n",
       "<table border=\"1\" class=\"dataframe\">\n",
       "  <thead>\n",
       "    <tr style=\"text-align: right;\">\n",
       "      <th></th>\n",
       "      <th>model_index</th>\n",
       "      <th>model_score</th>\n",
       "      <th>title_name</th>\n",
       "    </tr>\n",
       "  </thead>\n",
       "  <tbody>\n",
       "    <tr>\n",
       "      <th>0</th>\n",
       "      <td>13835</td>\n",
       "      <td>0.978149</td>\n",
       "      <td>batman</td>\n",
       "    </tr>\n",
       "    <tr>\n",
       "      <th>1</th>\n",
       "      <td>43461</td>\n",
       "      <td>0.974564</td>\n",
       "      <td>rollover</td>\n",
       "    </tr>\n",
       "    <tr>\n",
       "      <th>2</th>\n",
       "      <td>8603</td>\n",
       "      <td>0.973368</td>\n",
       "      <td>this island earth</td>\n",
       "    </tr>\n",
       "    <tr>\n",
       "      <th>3</th>\n",
       "      <td>35181</td>\n",
       "      <td>0.969575</td>\n",
       "      <td>angels die hard</td>\n",
       "    </tr>\n",
       "    <tr>\n",
       "      <th>4</th>\n",
       "      <td>44339</td>\n",
       "      <td>0.967639</td>\n",
       "      <td>megafault</td>\n",
       "    </tr>\n",
       "    <tr>\n",
       "      <th>5</th>\n",
       "      <td>6101</td>\n",
       "      <td>0.963982</td>\n",
       "      <td>the siege of firebase gloria</td>\n",
       "    </tr>\n",
       "    <tr>\n",
       "      <th>6</th>\n",
       "      <td>39970</td>\n",
       "      <td>0.961660</td>\n",
       "      <td>the creeping terror</td>\n",
       "    </tr>\n",
       "    <tr>\n",
       "      <th>7</th>\n",
       "      <td>3536</td>\n",
       "      <td>0.960145</td>\n",
       "      <td>reach me</td>\n",
       "    </tr>\n",
       "    <tr>\n",
       "      <th>8</th>\n",
       "      <td>10406</td>\n",
       "      <td>0.957285</td>\n",
       "      <td>the zookeeper's wife</td>\n",
       "    </tr>\n",
       "    <tr>\n",
       "      <th>9</th>\n",
       "      <td>18740</td>\n",
       "      <td>0.956330</td>\n",
       "      <td>k2</td>\n",
       "    </tr>\n",
       "    <tr>\n",
       "      <th>10</th>\n",
       "      <td>8739</td>\n",
       "      <td>0.955366</td>\n",
       "      <td>the dark lurking</td>\n",
       "    </tr>\n",
       "    <tr>\n",
       "      <th>11</th>\n",
       "      <td>44366</td>\n",
       "      <td>0.955157</td>\n",
       "      <td>NaN</td>\n",
       "    </tr>\n",
       "    <tr>\n",
       "      <th>12</th>\n",
       "      <td>14178</td>\n",
       "      <td>0.954871</td>\n",
       "      <td>dishonored</td>\n",
       "    </tr>\n",
       "    <tr>\n",
       "      <th>13</th>\n",
       "      <td>20099</td>\n",
       "      <td>0.954098</td>\n",
       "      <td>outside the law</td>\n",
       "    </tr>\n",
       "    <tr>\n",
       "      <th>14</th>\n",
       "      <td>7628</td>\n",
       "      <td>0.954084</td>\n",
       "      <td>doragon bōru zetto: gekitotsu!! hyaku-oku pawā...</td>\n",
       "    </tr>\n",
       "    <tr>\n",
       "      <th>15</th>\n",
       "      <td>16100</td>\n",
       "      <td>0.953555</td>\n",
       "      <td>where do we go from here?</td>\n",
       "    </tr>\n",
       "    <tr>\n",
       "      <th>16</th>\n",
       "      <td>21688</td>\n",
       "      <td>0.952829</td>\n",
       "      <td>the detonator</td>\n",
       "    </tr>\n",
       "    <tr>\n",
       "      <th>17</th>\n",
       "      <td>7772</td>\n",
       "      <td>0.952821</td>\n",
       "      <td>suicide club</td>\n",
       "    </tr>\n",
       "    <tr>\n",
       "      <th>18</th>\n",
       "      <td>18745</td>\n",
       "      <td>0.952700</td>\n",
       "      <td>bloodrayne ii: deliverance</td>\n",
       "    </tr>\n",
       "    <tr>\n",
       "      <th>19</th>\n",
       "      <td>43090</td>\n",
       "      <td>0.952493</td>\n",
       "      <td>sleeper</td>\n",
       "    </tr>\n",
       "  </tbody>\n",
       "</table>\n",
       "</div>"
      ],
      "text/plain": [
       "   model_index  model_score                                         title_name\n",
       "0        13835     0.978149                                             batman\n",
       "1        43461     0.974564                                           rollover\n",
       "2         8603     0.973368                                  this island earth\n",
       "3        35181     0.969575                                    angels die hard\n",
       "4        44339     0.967639                                          megafault\n",
       "5         6101     0.963982                       the siege of firebase gloria\n",
       "6        39970     0.961660                                the creeping terror\n",
       "7         3536     0.960145                                           reach me\n",
       "8        10406     0.957285                               the zookeeper's wife\n",
       "9        18740     0.956330                                                 k2\n",
       "10        8739     0.955366                                   the dark lurking\n",
       "11       44366     0.955157                                                NaN\n",
       "12       14178     0.954871                                         dishonored\n",
       "13       20099     0.954098                                    outside the law\n",
       "14        7628     0.954084  doragon bōru zetto: gekitotsu!! hyaku-oku pawā...\n",
       "15       16100     0.953555                          where do we go from here?\n",
       "16       21688     0.952829                                      the detonator\n",
       "17        7772     0.952821                                       suicide club\n",
       "18       18745     0.952700                         bloodrayne ii: deliverance\n",
       "19       43090     0.952493                                            sleeper"
      ]
     },
     "execution_count": 38,
     "metadata": {},
     "output_type": "execute_result"
    }
   ],
   "source": [
    "get_recommendations(['batman', 'megafault', 'k2'])"
   ]
  }
 ],
 "metadata": {
  "kernelspec": {
   "display_name": "base",
   "language": "python",
   "name": "python3"
  },
  "language_info": {
   "codemirror_mode": {
    "name": "ipython",
    "version": 3
   },
   "file_extension": ".py",
   "mimetype": "text/x-python",
   "name": "python",
   "nbconvert_exporter": "python",
   "pygments_lexer": "ipython3",
   "version": "3.9.7"
  },
  "orig_nbformat": 4,
  "vscode": {
   "interpreter": {
    "hash": "9ab0eddcdd4345bf42871f5b22706d6feaff3d82833866fa69ae96c64124730e"
   }
  }
 },
 "nbformat": 4,
 "nbformat_minor": 2
}
